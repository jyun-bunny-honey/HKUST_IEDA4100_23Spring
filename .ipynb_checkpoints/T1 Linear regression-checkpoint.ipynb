{
 "cells": [
  {
   "cell_type": "code",
   "execution_count": 32,
   "id": "e227f8ba",
   "metadata": {},
   "outputs": [
    {
     "ename": "ModuleNotFoundError",
     "evalue": "No module named 'matplotlib'",
     "output_type": "error",
     "traceback": [
      "\u001b[1;31m---------------------------------------------------------------------------\u001b[0m",
      "\u001b[1;31mModuleNotFoundError\u001b[0m                       Traceback (most recent call last)",
      "Cell \u001b[1;32mIn[32], line 2\u001b[0m\n\u001b[0;32m      1\u001b[0m \u001b[38;5;28;01mimport\u001b[39;00m \u001b[38;5;21;01mnumpy\u001b[39;00m \u001b[38;5;28;01mas\u001b[39;00m \u001b[38;5;21;01mnp\u001b[39;00m\n\u001b[1;32m----> 2\u001b[0m \u001b[38;5;28;01mimport\u001b[39;00m \u001b[38;5;21;01mmatplotlib\u001b[39;00m\u001b[38;5;21;01m.\u001b[39;00m\u001b[38;5;21;01mpyplot\u001b[39;00m \u001b[38;5;28;01mas\u001b[39;00m \u001b[38;5;21;01mplt\u001b[39;00m\n\u001b[0;32m      3\u001b[0m \u001b[38;5;28;01mfrom\u001b[39;00m \u001b[38;5;21;01msklearn\u001b[39;00m\u001b[38;5;21;01m.\u001b[39;00m\u001b[38;5;21;01mlinear_model\u001b[39;00m \u001b[38;5;28;01mimport\u001b[39;00m LinearRegression\n",
      "\u001b[1;31mModuleNotFoundError\u001b[0m: No module named 'matplotlib'"
     ]
    }
   ],
   "source": [
    "import numpy as np\n",
    "import matplotlib.pyplot as plt\n",
    "from sklearn.linear_model import LinearRegression "
   ]
  },
  {
   "cell_type": "code",
   "execution_count": 10,
   "id": "a8b3f5ec",
   "metadata": {},
   "outputs": [],
   "source": [
    "# Define \"x\" variables\n",
    "comp = np.array([4, 3, 2, 4, 1, 2, 5, 4])\n",
    "cus = np.array([20, 7, 12, 11.5, 4.5, 13, 12.5, 12])\n",
    "pred_var = np.column_stack((comp, cus))\n",
    "\n",
    "# Define \"y\" variable\n",
    "sales = np.array([385, 220, 285, 17, 190, 365, 210, 170])"
   ]
  },
  {
   "cell_type": "code",
   "execution_count": 12,
   "id": "a2a596b5",
   "metadata": {},
   "outputs": [
    {
     "name": "stdout",
     "output_type": "stream",
     "text": [
      "[[ 4.  20. ]\n",
      " [ 3.   7. ]\n",
      " [ 2.  12. ]\n",
      " [ 4.  11.5]\n",
      " [ 1.   4.5]\n",
      " [ 2.  13. ]\n",
      " [ 5.  12.5]\n",
      " [ 4.  12. ]]\n"
     ]
    }
   ],
   "source": [
    "print(pred_var)"
   ]
  },
  {
   "cell_type": "code",
   "execution_count": 13,
   "id": "ae618c23",
   "metadata": {},
   "outputs": [
    {
     "name": "stdout",
     "output_type": "stream",
     "text": [
      "[385 220 285  17 190 365 210 170]\n"
     ]
    }
   ],
   "source": [
    "print(sales)"
   ]
  },
  {
   "cell_type": "code",
   "execution_count": 14,
   "id": "089c6e92",
   "metadata": {},
   "outputs": [],
   "source": [
    "model = LinearRegression().fit(pred_var, sales)"
   ]
  },
  {
   "cell_type": "code",
   "execution_count": 17,
   "id": "7139e13c",
   "metadata": {},
   "outputs": [
    {
     "name": "stdout",
     "output_type": "stream",
     "text": [
      "R Square: 0.5843033344400348\n"
     ]
    }
   ],
   "source": [
    "r_sq = model.score(pred_var, sales)\n",
    "print(f\"R Square: {r_sq}\")"
   ]
  },
  {
   "cell_type": "code",
   "execution_count": 18,
   "id": "2eedda49",
   "metadata": {},
   "outputs": [
    {
     "name": "stdout",
     "output_type": "stream",
     "text": [
      "R Square: 0.584\n"
     ]
    }
   ],
   "source": [
    "print(f\"R Square: {round(r_sq,3)}\")"
   ]
  },
  {
   "cell_type": "code",
   "execution_count": 21,
   "id": "982a01ee",
   "metadata": {},
   "outputs": [
    {
     "name": "stdout",
     "output_type": "stream",
     "text": [
      "Intercept: 163.209\n",
      "Coefficients: [-60.106  22.043]\n"
     ]
    }
   ],
   "source": [
    "print(f\"Intercept: {round(model.intercept_,3)}\") #This is b0.\n",
    "print(f\"Coefficients: {np.round(model.coef_,3)}\") # These are b1 and b2."
   ]
  },
  {
   "cell_type": "code",
   "execution_count": 30,
   "id": "3636ff78",
   "metadata": {},
   "outputs": [
    {
     "name": "stdout",
     "output_type": "stream",
     "text": [
      "Predicted sales:\n",
      "[363.645 137.192 307.513 176.28  202.296 329.556 138.217 187.301]\n"
     ]
    }
   ],
   "source": [
    "pred_sales = model.predict(pred_var)\n",
    "print(f\"Predicted sales:\")\n",
    "print(np.round(pred_sales,3))"
   ]
  },
  {
   "cell_type": "code",
   "execution_count": 29,
   "id": "4e2c8365",
   "metadata": {},
   "outputs": [
    {
     "name": "stdout",
     "output_type": "stream",
     "text": [
      "Predicted sales:\n",
      "[363.645 137.192 307.513 176.28  202.296 329.556 138.217 187.301]\n"
     ]
    }
   ],
   "source": [
    "pred_sales2 = model.intercept_ + np.sum(model.coef_ * pred_var, axis=1)\n",
    "print(f\"Predicted sales:\")\n",
    "print(np.round(pred_sales2,3))"
   ]
  },
  {
   "cell_type": "code",
   "execution_count": 28,
   "id": "c97f7422",
   "metadata": {},
   "outputs": [
    {
     "name": "stdout",
     "output_type": "stream",
     "text": [
      "Predicted Errors:\n",
      "[  21.355   82.808  -22.513 -159.28   -12.296   35.444   71.783  -17.301]\n"
     ]
    }
   ],
   "source": [
    "pred_error = sales - pred_sales\n",
    "print(f\"Predicted Errors:\")\n",
    "print(np.round(pred_error,3))"
   ]
  },
  {
   "cell_type": "code",
   "execution_count": 33,
   "id": "33029ac3",
   "metadata": {},
   "outputs": [],
   "source": [
    "test_comp = np.array([6, 2, 3])\n",
    "test_cus = np.array([14, 7, 12.5])\n",
    "test_var = np.column_stack((test_comp, test_cus))"
   ]
  },
  {
   "cell_type": "code",
   "execution_count": 35,
   "id": "8b44c0e0",
   "metadata": {},
   "outputs": [
    {
     "name": "stdout",
     "output_type": "stream",
     "text": [
      "Predicted sales for new locations:\n",
      "[111.176 197.298 258.428]\n"
     ]
    }
   ],
   "source": [
    "test_sales = model.predict(test_var)\n",
    "print(f\"Predicted sales for new locations:\")\n",
    "print(np.round(test_sales,3))"
   ]
  },
  {
   "cell_type": "code",
   "execution_count": null,
   "id": "1713b24f",
   "metadata": {},
   "outputs": [],
   "source": []
  }
 ],
 "metadata": {
  "kernelspec": {
   "display_name": "env_tutorial",
   "language": "python",
   "name": "env_tutorial"
  },
  "language_info": {
   "codemirror_mode": {
    "name": "ipython",
    "version": 3
   },
   "file_extension": ".py",
   "mimetype": "text/x-python",
   "name": "python",
   "nbconvert_exporter": "python",
   "pygments_lexer": "ipython3",
   "version": "3.10.9"
  }
 },
 "nbformat": 4,
 "nbformat_minor": 5
}
